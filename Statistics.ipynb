{
  "nbformat": 4,
  "nbformat_minor": 0,
  "metadata": {
    "kernelspec": {
      "display_name": "Python 3",
      "language": "python",
      "name": "python3"
    },
    "language_info": {
      "codemirror_mode": {
        "name": "ipython",
        "version": 3
      },
      "file_extension": ".py",
      "mimetype": "text/x-python",
      "name": "python",
      "nbconvert_exporter": "python",
      "pygments_lexer": "ipython3",
      "version": "3.8.3"
    },
    "colab": {
      "name": "18_COMPUTER.ipynb",
      "provenance": [],
      "collapsed_sections": []
    }
  },
  "cells": [
    {
      "cell_type": "markdown",
      "metadata": {
        "id": "jMTo1lEo2NpW"
      },
      "source": [
        "# **Statistics in Python**\n",
        "  - *Edited on April 18*\n",
        "  - *Author Sammed Doshi*"
      ]
    },
    {
      "cell_type": "markdown",
      "metadata": {
        "id": "L8GbBgPN2Npd"
      },
      "source": [
        "# Statistical measures"
      ]
    },
    {
      "cell_type": "code",
      "metadata": {
        "id": "MNmtS3xh2Npe"
      },
      "source": [
        "#Imported Packages\n",
        "import math \n",
        "import statistics \n",
        "import numpy as np \n",
        "import scipy.stats \n",
        "import pandas as pd \n",
        "import matplotlib.pyplot as plt "
      ],
      "execution_count": null,
      "outputs": []
    },
    {
      "cell_type": "code",
      "metadata": {
        "id": "MzF7U7vy2Npf",
        "colab": {
          "base_uri": "https://localhost:8080/"
        },
        "outputId": "e9f6ce75-de71-41dd-8d14-2d9bfdc7bb25"
      },
      "source": [
        "#Initialation of Data and Display\n",
        " \n",
        "x = [91.0, 43.70, 83.80, 22.7, 65.13] \n",
        "x_with_nan = [14.30, 2.0, 46.5, math.nan, 99.9, 29.0]\n",
        "\n",
        "\n",
        "print(f\" x = {x} , x_with_nan = {x_with_nan}, type(x) = {type(x)}\") "
      ],
      "execution_count": null,
      "outputs": [
        {
          "output_type": "stream",
          "text": [
            " x = [91.0, 43.7, 83.8, 22.7, 65.13] , x_with_nan = [14.3, 2.0, 46.5, nan, 99.9, 29.0], type(x) = <class 'list'>\n"
          ],
          "name": "stdout"
        }
      ]
    },
    {
      "cell_type": "code",
      "metadata": {
        "id": "dkPtGIJS2Npf",
        "colab": {
          "base_uri": "https://localhost:8080/"
        },
        "outputId": "15b2e503-5a9e-4a43-c0a5-1306c3f80e43"
      },
      "source": [
        "y = np.array(x) \n",
        "y_with_nan = np.array(x_with_nan)\n",
        "\n",
        "print(f\" Type of y = {type(y)}\") "
      ],
      "execution_count": null,
      "outputs": [
        {
          "output_type": "stream",
          "text": [
            " Type of y = <class 'numpy.ndarray'>\n"
          ],
          "name": "stdout"
        }
      ]
    },
    {
      "cell_type": "code",
      "metadata": {
        "id": "GjTK_oSF2Npg",
        "colab": {
          "base_uri": "https://localhost:8080/"
        },
        "outputId": "373f6ed9-460d-4f70-96e7-7d602b8b9c8d"
      },
      "source": [
        "z = pd.Series(x) \n",
        "z_with_nan = pd.Series(x_with_nan) \n",
        "\n",
        "print(f\" Type of z = {type(z)}\")"
      ],
      "execution_count": null,
      "outputs": [
        {
          "output_type": "stream",
          "text": [
            " Type of z = <class 'pandas.core.series.Series'>\n"
          ],
          "name": "stdout"
        }
      ]
    },
    {
      "cell_type": "markdown",
      "metadata": {
        "id": "gtOQ2i4a2Npe"
      },
      "source": [
        "> # MEAN"
      ]
    },
    {
      "cell_type": "code",
      "metadata": {
        "id": "Z0qmexb12Npg",
        "colab": {
          "base_uri": "https://localhost:8080/"
        },
        "outputId": "8300765b-b63f-4e16-8e65-e45794823f1a"
      },
      "source": [
        "# Mathematical Formula \n",
        "mean_x = sum(x)/len(x) \n",
        "print(f\"Mean Using Mathematical Formula x = {mean_x}\") \n",
        "\n",
        "# Arithmetic Mean / Average of data. \n",
        "mean_x = statistics.mean(x) \n",
        "print(f\"Arithmetic Mean  x = {mean_x}\") "
      ],
      "execution_count": null,
      "outputs": [
        {
          "output_type": "stream",
          "text": [
            "Mean Using Mathematical Formula x = 61.266\n",
            "Arithmetic Mean  x = 61.266\n"
          ],
          "name": "stdout"
        }
      ]
    },
    {
      "cell_type": "code",
      "metadata": {
        "id": "_C4sigZiPxu0"
      },
      "source": [
        "# from statistics import fmean \n",
        "\n",
        "# # Floating-point mean \n",
        "# fm = statistics.fmean(x_with_nan)   \n",
        "# print(\"Floating Point Mean is :\", fm) "
      ],
      "execution_count": null,
      "outputs": []
    },
    {
      "cell_type": "code",
      "metadata": {
        "id": "pn6WFGfH2Npi",
        "colab": {
          "base_uri": "https://localhost:8080/"
        },
        "outputId": "7abc56cb-c7e7-4281-f301-b9f6630e0db7"
      },
      "source": [
        "# Using numpy.mean and Mean Function\n",
        "\n",
        "mean_y = np.mean(y) \n",
        "print(f\"y = {mean_y}\") \n",
        "\n",
        "mean_y = y.mean() \n",
        "print(f\"y = {mean_y}\") \n",
        "\n",
        "mean_z = z.mean() \n",
        "print(f\"z = {mean_z}\") \n",
        "\n",
        "mean_z = z_with_nan.mean() \n",
        "print(f\"z with NaN = {mean_z}\") "
      ],
      "execution_count": null,
      "outputs": [
        {
          "output_type": "stream",
          "text": [
            "y = 61.266\n",
            "y = 61.266\n",
            "z = 61.266\n",
            "z with NaN = 38.339999999999996\n"
          ],
          "name": "stdout"
        }
      ]
    },
    {
      "cell_type": "code",
      "metadata": {
        "id": "q3SAlEsy2Npj",
        "colab": {
          "base_uri": "https://localhost:8080/"
        },
        "outputId": "c5798eea-bb26-4a7b-bdf4-952439f10f12"
      },
      "source": [
        "from importlib import reload\n",
        "reload(statistics)\n",
        "\n",
        "# Harmonic Mean\n",
        "hmean = len(x) / sum(1 / item for item in x)  \n",
        "print(f\"Harmonic Mean = {hmean}\") \n",
        "\n",
        "# Geometric Mean\n",
        "# gmean = statistics.geometric_mean(x)\n",
        "# print(f\"Geometric Mean = {gmean}\") \n",
        "\n",
        "# Geometric Mean with NaN\n",
        "# gmean = statistics.geometric_mean(x_with_nan) \n",
        "# print(f\"Geometric Mean with NaN = {gmean}\") \n"
      ],
      "execution_count": null,
      "outputs": [
        {
          "output_type": "stream",
          "text": [
            "Harmonic Mean = 47.52298266435751\n"
          ],
          "name": "stdout"
        }
      ]
    },
    {
      "cell_type": "markdown",
      "metadata": {
        "id": "ivCFu8nQ2Npk"
      },
      "source": [
        ">  # MEDIAN\n",
        "\n"
      ]
    },
    {
      "cell_type": "code",
      "metadata": {
        "id": "uEFBLkB-2Npk",
        "colab": {
          "base_uri": "https://localhost:8080/"
        },
        "outputId": "4d32a0fe-e15f-4a58-ce9b-31f5fc9267d4"
      },
      "source": [
        "# Statistics Median\n",
        "median_x = statistics.median(x)  \n",
        "print(f\"Statistics Median x = {median_x}\") \n",
        "\n",
        "median_x = statistics.median(x[:-1]) \n",
        "print(f\"Statistics Median x = {median_x}\") "
      ],
      "execution_count": null,
      "outputs": [
        {
          "output_type": "stream",
          "text": [
            "Statistics Median x = 65.13\n",
            "Statistics Median x = 63.75\n"
          ],
          "name": "stdout"
        }
      ]
    },
    {
      "cell_type": "code",
      "metadata": {
        "id": "GZqKQjL02Npk",
        "colab": {
          "base_uri": "https://localhost:8080/"
        },
        "outputId": "2b148978-38ca-4c4e-95c8-754b48b0df91"
      },
      "source": [
        "print(f\"Statistics Median x_with_nan = {statistics.median(x_with_nan)}\") \n",
        "print(f\"Statistics Median x = {statistics.median_low(x_with_nan)}\") \n",
        "print(f\"Statistics Median x = {statistics.median_high(x_with_nan)}\") "
      ],
      "execution_count": null,
      "outputs": [
        {
          "output_type": "stream",
          "text": [
            "Statistics Median x_with_nan = 37.75\n",
            "Statistics Median x = 29.0\n",
            "Statistics Median x = 46.5\n"
          ],
          "name": "stdout"
        }
      ]
    },
    {
      "cell_type": "code",
      "metadata": {
        "id": "FEMqpnRl2Npk",
        "colab": {
          "base_uri": "https://localhost:8080/"
        },
        "outputId": "d908d9ec-edd9-42fc-e7f8-20b4b98c717e"
      },
      "source": [
        "# Numpy Median\n",
        "median_y = np.median(y) \n",
        "print(f\"Numpy Median y = {median_y}\") \n",
        "\n",
        "median_ = np.median(y[:-1]) \n",
        "print(f\"Numpy Median y = {median_y}\") "
      ],
      "execution_count": null,
      "outputs": [
        {
          "output_type": "stream",
          "text": [
            "Numpy Median y = 65.13\n",
            "Numpy Median y = 65.13\n"
          ],
          "name": "stdout"
        }
      ]
    },
    {
      "cell_type": "markdown",
      "metadata": {
        "id": "B-6CujXM2Npl"
      },
      "source": [
        ">  # MODE\n",
        "\n"
      ]
    },
    {
      "cell_type": "code",
      "metadata": {
        "id": "rBZ_ShhN2Npl",
        "colab": {
          "base_uri": "https://localhost:8080/"
        },
        "outputId": "8282be42-ed06-4cbc-cf3c-bce0ffe45faa"
      },
      "source": [
        "# Statistics Mode\n",
        "\n",
        "u = [24, 18, 20, 27, 20] \n",
        "mode_u = statistics.mode(u) \n",
        "print(f\"Statistics Mode u = {mode_u}\") "
      ],
      "execution_count": null,
      "outputs": [
        {
          "output_type": "stream",
          "text": [
            "Statistics Mode u = 20\n"
          ],
          "name": "stdout"
        }
      ]
    },
    {
      "cell_type": "code",
      "metadata": {
        "id": "hm3cYH5q2Npl",
        "colab": {
          "base_uri": "https://localhost:8080/"
        },
        "outputId": "42ec2348-4dcc-40b5-9d58-ca792719e0da"
      },
      "source": [
        "# Scipy.stats.mode(): \n",
        "v = [21, 47, 24, 83, 82, 15, 12] \n",
        "u, v = np.array(u), np.array(v) \n",
        "\n",
        "mode_u = scipy.stats.mode(u) \n",
        "print(f\"Scipy Statistics Mode u = {mode_u}\")\n",
        "\n",
        "mode_v = scipy.stats.mode(v) \n",
        "print(f\"Scipy Statistics Mode v = {mode_v}\")"
      ],
      "execution_count": null,
      "outputs": [
        {
          "output_type": "stream",
          "text": [
            "Scipy Statistics Mode u = ModeResult(mode=array([20]), count=array([2]))\n",
            "Scipy Statistics Mode v = ModeResult(mode=array([12]), count=array([1]))\n"
          ],
          "name": "stdout"
        }
      ]
    },
    {
      "cell_type": "markdown",
      "metadata": {
        "id": "Bozq04CN2Npl"
      },
      "source": [
        "# Measures of Variability"
      ]
    },
    {
      "cell_type": "markdown",
      "metadata": {
        "id": "EaHw8FUD2Npl"
      },
      "source": [
        "> # Variance\n",
        "\n",
        "\n"
      ]
    },
    {
      "cell_type": "code",
      "metadata": {
        "id": "abAAkPs62Npm",
        "colab": {
          "base_uri": "https://localhost:8080/"
        },
        "outputId": "1a41481d-8a05-4a07-9b2e-f5c536a3b9a2"
      },
      "source": [
        "# Statistics Variance \n",
        "\n",
        "var_x = statistics.variance(x) \n",
        "print(f\"Statistics Variance x = {var_x}\") \n",
        "print(f\"Statistics Variance x_with_nan = {statistics.variance(x_with_nan)}\") \n",
        "\n",
        "\n",
        "# Numpy Variance and Var() function\n",
        "\n",
        "var_y = np.var(y, ddof=1) \n",
        "print(f\"Numpy Variance y = {var_y}\") \n",
        "print(f\"Variance y with var()= { y.var(ddof=1)}\")"
      ],
      "execution_count": null,
      "outputs": [
        {
          "output_type": "stream",
          "text": [
            "Statistics Variance x = 800.68078\n",
            "Statistics Variance x_with_nan = nan\n",
            "Numpy Variance y = 800.68078\n",
            "Variance y with var()= 800.68078\n"
          ],
          "name": "stdout"
        }
      ]
    },
    {
      "cell_type": "markdown",
      "metadata": {
        "id": "6X0ARIhC2Npm"
      },
      "source": [
        "># Standard Deviation "
      ]
    },
    {
      "cell_type": "code",
      "metadata": {
        "id": "7l0vqZyI2Npm",
        "colab": {
          "base_uri": "https://localhost:8080/"
        },
        "outputId": "9369be56-d3d7-472a-c014-225ab1733fcc"
      },
      "source": [
        "# With Formula\n",
        "\n",
        "std_x = var_x ** 0.5 \n",
        "print(f\"Standard Deviation X with Formula = {std_x}\") \n",
        "\n",
        "# Statistics Standard Deviation \n",
        "print(f\"Statistics Standard Deviation X = {statistics.stdev(x) }\") \n",
        "\n",
        "# Numpy Standard Deviation \n",
        "print(f\"Numpy Standard Deviation Y = {np.std(y, ddof=1)}\") "
      ],
      "execution_count": null,
      "outputs": [
        {
          "output_type": "stream",
          "text": [
            "Standard Deviation X with Formula = 28.296303292126343\n",
            "Statistics Standard Deviation X = 28.296303292126343\n",
            "Numpy Standard Deviation Y = 28.296303292126343\n"
          ],
          "name": "stdout"
        }
      ]
    },
    {
      "cell_type": "markdown",
      "metadata": {
        "id": "tM6HY8Ag2Npn"
      },
      "source": [
        "> # Covariance"
      ]
    },
    {
      "cell_type": "code",
      "metadata": {
        "id": "5Xt5P5co2Npn"
      },
      "source": [
        "# Covariance\n",
        "\n",
        "x = list(range(-10, 11)) \n",
        "y = [0, 2, 2, 2, 2, 3, 3, 6, 7, 4, 7, 6, 6, 9, 4, 5, 5, 10, 11, 12, 14] \n",
        "x_array, y_array = np.array(x), np.array(y) \n",
        "x_ser, y_ser = pd.Series(x_array), pd.Series(y_array) \n"
      ],
      "execution_count": null,
      "outputs": []
    },
    {
      "cell_type": "code",
      "metadata": {
        "id": "xXt3iP9V2Npn",
        "colab": {
          "base_uri": "https://localhost:8080/"
        },
        "outputId": "075df476-a379-4e74-811e-0b1b6f6a5aef"
      },
      "source": [
        "# Covariance Matrix \n",
        "cov_matrix = np.cov(x_array, y_array) \n",
        "print(cov_matrix)"
      ],
      "execution_count": null,
      "outputs": [
        {
          "output_type": "stream",
          "text": [
            "[[38.5        19.95      ]\n",
            " [19.95       13.91428571]]\n"
          ],
          "name": "stdout"
        }
      ]
    },
    {
      "cell_type": "code",
      "metadata": {
        "id": "185OsDm22Npo",
        "colab": {
          "base_uri": "https://localhost:8080/"
        },
        "outputId": "5d80b4c3-d6e1-449e-8e2d-8c73b52f681f"
      },
      "source": [
        "cov_xy = x_ser.cov(y_ser) \n",
        "print(cov_xy) \n",
        "cov_xy = y_ser.cov(x_ser) \n",
        "print(cov_xy)"
      ],
      "execution_count": null,
      "outputs": [
        {
          "output_type": "stream",
          "text": [
            "19.95\n",
            "19.95\n"
          ],
          "name": "stdout"
        }
      ]
    },
    {
      "cell_type": "markdown",
      "metadata": {
        "id": "0lN4WcKL2Npo"
      },
      "source": [
        "> #  Correlation "
      ]
    },
    {
      "cell_type": "code",
      "metadata": {
        "id": "vWskpGuq2Npo",
        "colab": {
          "base_uri": "https://localhost:8080/"
        },
        "outputId": "629e1efa-6eb9-4ce6-b41b-9d6cf382de75"
      },
      "source": [
        "# Correlation\n",
        "r, p = scipy.stats.pearsonr(x_array, y_array) \n",
        "print(r)\n",
        "print(p) "
      ],
      "execution_count": null,
      "outputs": [
        {
          "output_type": "stream",
          "text": [
            "0.861950005631606\n",
            "5.122760847201171e-07\n"
          ],
          "name": "stdout"
        }
      ]
    },
    {
      "cell_type": "code",
      "metadata": {
        "id": "4hEj58z32Npo",
        "colab": {
          "base_uri": "https://localhost:8080/"
        },
        "outputId": "3609b8e0-7c41-4a99-800c-0e5634124537"
      },
      "source": [
        " # Correlation Coefficient Matrix:\n",
        "corr_matrix = np.corrcoef(x_array, y_array)\n",
        "print(corr_matrix) "
      ],
      "execution_count": null,
      "outputs": [
        {
          "output_type": "stream",
          "text": [
            "[[1.         0.86195001]\n",
            " [0.86195001 1.        ]]\n"
          ],
          "name": "stdout"
        }
      ]
    },
    {
      "cell_type": "code",
      "metadata": {
        "id": "qkUyWjic2Npo",
        "colab": {
          "base_uri": "https://localhost:8080/"
        },
        "outputId": "b2e673e8-153b-41eb-d506-45db5a3525bb"
      },
      "source": [
        " #  Scipy.stats.linregress() Correlation Coefficient\n",
        "scipy.stats.linregress(x_array, y_array) "
      ],
      "execution_count": null,
      "outputs": [
        {
          "output_type": "execute_result",
          "data": {
            "text/plain": [
              "LinregressResult(slope=0.5181818181818181, intercept=5.714285714285714, rvalue=0.861950005631606, pvalue=5.122760847201164e-07, stderr=0.06992387660074979)"
            ]
          },
          "metadata": {
            "tags": []
          },
          "execution_count": 124
        }
      ]
    },
    {
      "cell_type": "markdown",
      "metadata": {
        "id": "mJLATVsA2Npp"
      },
      "source": [
        "> # Standard error"
      ]
    },
    {
      "cell_type": "code",
      "metadata": {
        "id": "2Yz1xmi02Npp",
        "colab": {
          "base_uri": "https://localhost:8080/"
        },
        "outputId": "29582038-0ebb-4326-b33c-71eb0b791691"
      },
      "source": [
        "from scipy.stats import sem\n",
        "\n",
        "# initialization Data \n",
        "data = [17, 19, 24, 24, 24, 25, 26, 27, 30, 35, 41, 47, 82, 84, 88, 92, 97, 99, 99]\n",
        "\n",
        "# Standard Error Mean \n",
        "sem(data)"
      ],
      "execution_count": null,
      "outputs": [
        {
          "output_type": "execute_result",
          "data": {
            "text/plain": [
              "7.428928672762466"
            ]
          },
          "metadata": {
            "tags": []
          },
          "execution_count": 125
        }
      ]
    }
  ]
}